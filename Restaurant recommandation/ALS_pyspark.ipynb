{
 "cells": [
  {
   "cell_type": "markdown",
   "metadata": {},
   "source": [
    "# Explicit Alternative Least Square"
   ]
  },
  {
   "cell_type": "markdown",
   "metadata": {},
   "source": [
    "------------\n",
    "In the last section, we have used KNN to created the first restaurant recommendation model. In this section I will be using ALS to solve the exact same probelm; and let see if there is any difference between this two methodologies.\n",
    "\n",
    "-------------"
   ]
  },
  {
   "cell_type": "markdown",
   "metadata": {},
   "source": [
    "There are two types of ALS that are commonly used:\n",
    " * Explicit ALS\n",
    " * Implicit ALS\n",
    "\n",
    "The only difference them is that in Explicit ALS, we have observation on users rating, which is the case for this dataset. But for the case of Implicit ALS, we have to define users rating based on user behaviors, for example, clickdata, time spent on the webpage, and etc.\n",
    "\n",
    "In this section, I will be focusing on the **Explicit ALS**.\n",
    "\n",
    "--------------------------\n",
    "\n",
    "To use Apache Spark, I spent some time to figure out on to set up Spark environment on my local machine. The tutorial I used can be found in [here](https://medium.com/@GalarnykMichael/install-spark-on-windows-pyspark-4498a5d8d66c)\n",
    "\n",
    "\n",
    "Now let's start. First, let's import the libraries,"
   ]
  },
  {
   "cell_type": "code",
   "execution_count": 3,
   "metadata": {},
   "outputs": [],
   "source": [
    "from pyspark.sql import SparkSession\n",
    "from pyspark.ml.recommendation import ALS\n",
    "from pyspark.ml.evaluation import RegressionEvaluator\n",
    "from pyspark.sql.window import Window\n",
    "from pyspark.sql.types import IntegerType\n",
    "from pyspark.sql.functions import *\n",
    "from pyspark.sql import Row\n",
    "import time\n",
    "import os\n",
    "import matplotlib.pyplot as plt\n",
    "import numpy as np\n",
    "os.chdir(\"D:\\\\Yelp data\")"
   ]
  },
  {
   "cell_type": "markdown",
   "metadata": {},
   "source": [
    "Setup the Spark session and import the data"
   ]
  },
  {
   "cell_type": "code",
   "execution_count": 4,
   "metadata": {},
   "outputs": [
    {
     "name": "stdout",
     "output_type": "stream",
     "text": [
      "+---+--------------------+--------------------+--------------------+------------+------------+-----------+----------+--------------------+-------+--------------------+-----------+------------------+--------------+-----------------+-----------+----------+---------+----+\n",
      "|_c0|           review_id|             user_id|         business_id|stars_review|useful_final|funny_final|cool_final|          categories|   city|                name|postal_code|review_count_final|stars_business|review_count_user|useful_user|funny_user|cool_user|fans|\n",
      "+---+--------------------+--------------------+--------------------+------------+------------+-----------+----------+--------------------+-------+--------------------+-----------+------------------+--------------+-----------------+-----------+----------+---------+----+\n",
      "|  6|ymAUG8DZfQcFTBSOi...|u0LXt3Uea_GidxRW1...|9_CGhHMz8698M9-Pk...|           4|           0|          0|         2|Restaurants, Viet...|Toronto|Little Coxwell Vi...|    M4C 3G5|               115|           4.0|              359|         79|         7|       22|   8|\n",
      "|  7|8UIishPUD92hXtScS...|u0LXt3Uea_GidxRW1...|gkCorLgPyQLsptTHa...|           4|           1|          0|         0|Food, Restaurants...|Toronto|  Broadview Espresso|    M4K 2P9|                65|           4.0|              359|         79|         7|       22|   8|\n",
      "|  8|w41ZS9shepfO3uEyh...|u0LXt3Uea_GidxRW1...|5r6-G9C4YLbC7Ziz5...|           3|           1|          0|         0|Restaurants, Pout...|Toronto|Poutini's House o...|    M6J 1H9|               268|           3.5|              359|         79|         7|       22|   8|\n",
      "| 10|PIsUSmvaUWB00qv5K...|u0LXt3Uea_GidxRW1...|z8oIoCT1cXz7gZP5G...|           4|           1|          0|         0|Canadian (New), B...|Toronto|Milliken Bar & Re...|    M1S 3T6|                36|           3.5|              359|         79|         7|       22|   8|\n",
      "| 11|PdZ_uFjbbkjtm3SCY...|u0LXt3Uea_GidxRW1...|XWTPNfskXoUL-Lf32...|           3|           5|          0|         1|Restaurants, Dine...|Toronto|      Rosedale Diner|    M4W 2L9|                80|           3.5|              359|         79|         7|       22|   8|\n",
      "| 13|lsoSqIrrDbQvWpMvs...|u0LXt3Uea_GidxRW1...|RtUvSWO_UZ8V3Wpj0...|           3|           2|          1|         1|Bars, Restaurants...|Toronto|KINKA IZAKAYA ORI...|    M5B 2A2|              1397|           4.0|              359|         79|         7|       22|   8|\n",
      "| 14|23eqwlZzCWZkADWfd...|u0LXt3Uea_GidxRW1...|Aov96CM4FZAXeZvKt...|           5|           2|          0|         1|Specialty Food, E...|Toronto| Que Ling Restaurant|    M4M 2K1|                61|           4.0|              359|         79|         7|       22|   8|\n",
      "| 17|xdu8nXrbNKeaywCX7...|u0LXt3Uea_GidxRW1...|PFPUMF38-lraKzLcT...|           3|           2|          0|         0|American (Traditi...|Toronto|  Mitzi's On College|    M6H 1A3|                34|           3.5|              359|         79|         7|       22|   8|\n",
      "| 18|K7o5jDInfmX3cY5oH...|u0LXt3Uea_GidxRW1...|oWTn2IzrprsRkPfUL...|           3|           4|          0|         0|Restaurants, Burgers|Toronto| The Burger's Priest|    M4L 1G3|               435|           3.5|              359|         79|         7|       22|   8|\n",
      "| 19|WYDFJOBOl7cycd7gN...|u0LXt3Uea_GidxRW1...|zgQHtqX0gqMw1nlBZ...|           1|           9|          2|         1|Ramen, Soup, Kore...|Toronto| Momofuku Noodle Bar|    M5H 0A3|               897|           3.0|              359|         79|         7|       22|   8|\n",
      "+---+--------------------+--------------------+--------------------+------------+------------+-----------+----------+--------------------+-------+--------------------+-----------+------------------+--------------+-----------------+-----------+----------+---------+----+\n",
      "only showing top 10 rows\n",
      "\n"
     ]
    }
   ],
   "source": [
    "spark = SparkSession \\\n",
    "        .builder \\\n",
    "        .appName(\"movie recommendation\") \\\n",
    "        .getOrCreate()\n",
    "sc=spark.sparkContext\n",
    "sc.setCheckpointDir('C:\\\\Users\\\\qwerdf\\\\Desktop\\\\Coding\\\\pyspark')\n",
    "#Add checkpoint becasue it is HDFS at a local machine; memory can be a contrainst in this case.\n",
    "\n",
    "joint_table=spark.read.load(\"yelp_train.csv\",format='csv',header=True)\n",
    "joint_table.show(10)"
   ]
  },
  {
   "cell_type": "markdown",
   "metadata": {},
   "source": [
    "First I will need to convert **business_id** and **user_id** into a integer unique identifer, because this is what spark.ALS would take. \n",
    "\n",
    "---\n",
    "\n",
    "Here I leverage the rank over combination in SQL to assign a unique identifier for each user and business."
   ]
  },
  {
   "cell_type": "code",
   "execution_count": 5,
   "metadata": {},
   "outputs": [
    {
     "name": "stdout",
     "output_type": "stream",
     "text": [
      "+---------------+-----------+----------------+--------------------+\n",
      "|business_id_int|user_id_int|stars_review_int|                name|\n",
      "+---------------+-----------+----------------+--------------------+\n",
      "|         130673|          1|               1|Posticino Ristorante|\n",
      "|          91180|          2|               4|        The Pie Guyz|\n",
      "|         345830|          3|               2| Slumdog Bar & Grill|\n",
      "|         137697|          4|               2|                Cava|\n",
      "|         128641|          5|               3|      Sansotei Ramen|\n",
      "|         132919|          5|               4|CoCo Fresh Tea & ...|\n",
      "|         178897|          5|               5|    Wooffles & Cream|\n",
      "|         438575|          5|               2|          Little Fin|\n",
      "|           5406|          9|               1|The Works Gourmet...|\n",
      "|          25789|          9|               5|          Cafe Jules|\n",
      "+---------------+-----------+----------------+--------------------+\n",
      "only showing top 10 rows\n",
      "\n"
     ]
    }
   ],
   "source": [
    "\n",
    "ALS_data=joint_table.withColumn(\"business_id_int\",rank().over(Window.orderBy(asc(\"business_id\")))) \\\n",
    "                    .withColumn(\"user_id_int\",rank().over(Window.orderBy(asc(\"user_id\")))) \\\n",
    "                    .withColumn(\"stars_review_int\",joint_table[\"stars_review\"].cast(IntegerType())) \\\n",
    "                    .select([\"business_id_int\",\"user_id_int\",\"stars_review_int\",\"name\"]).cache()\n",
    "\n",
    "ALS_data.createOrReplaceTempView(\"ALS_data\")\n",
    "ALS_data.show(10)"
   ]
  },
  {
   "cell_type": "markdown",
   "metadata": {},
   "source": [
    "Ensure that every line has **business_id**, **review score** and **user id**"
   ]
  },
  {
   "cell_type": "code",
   "execution_count": 6,
   "metadata": {},
   "outputs": [
    {
     "name": "stdout",
     "output_type": "stream",
     "text": [
      "+---------------+-----------+----------------+----+\n",
      "|business_id_int|user_id_int|stars_review_int|name|\n",
      "+---------------+-----------+----------------+----+\n",
      "+---------------+-----------+----------------+----+\n",
      "\n"
     ]
    }
   ],
   "source": [
    "train,validation=ALS_data.randomSplit([0.8,0.2],seed=1992)\n",
    "train.createOrReplaceTempView(\"train\")\n",
    "spark.sql(\n",
    "    \"Select * \\\n",
    "     FROM  train \\\n",
    "     WHERE stars_review_int is null or business_id_int is null or user_id_int is null\"\n",
    ").show(10)"
   ]
  },
  {
   "cell_type": "markdown",
   "metadata": {},
   "source": [
    "Define the function for ALS parameter tuning. The two parameter needs to be tuned are $ lambda $, which is the regularization parameter that prevent the model from overfitting; and the $ rank $, which defines the complexity of the model.\n",
    "\n",
    "Root mean square error is the error function used for ALS."
   ]
  },
  {
   "cell_type": "code",
   "execution_count": 23,
   "metadata": {},
   "outputs": [],
   "source": [
    "def ALS_parameter_tuning(train_data,validation_data,maxiter,reg_param,rank):\n",
    "        \"\"\"\n",
    "        function that tuninng ALS parameter regularization pararmeter and rank\n",
    "    \n",
    "        train_data: train_set spark dataframe with user_id, business_id, review. All three needs to be column of integars\n",
    "    \n",
    "        validation_data: validation set spark dataframe user_id, business_id, review. All three needs to be column of integars\n",
    "    \n",
    "        maxiter: iteration number; define the number of iteration ALS would perform\n",
    "    \n",
    "        reg_param, regularization parameter; list of integars needs to be tuned\n",
    "    \n",
    "        rank: rank list; list of integars needs to be tuned\n",
    "    \n",
    "        \"\"\"\n",
    "        min_error=float('inf')\n",
    "        best_rank=-1\n",
    "        best_regularization=0,\n",
    "        best_model=None\n",
    "        run_time=time.time()\n",
    "        for rank_iter in ranks:\n",
    "            for reg in reg_param:\n",
    "                start_time=time.time()\n",
    "                als=ALS(\n",
    "                        maxIter=maxiter,\n",
    "                        regParam=reg,\n",
    "                        userCol=\"user_id_int\",\n",
    "                        itemCol=\"business_id_int\",\n",
    "                        ratingCol=\"stars_review_int\",\n",
    "                        rank=rank_iter,\n",
    "                        coldStartStrategy=\"drop\",\n",
    "                        checkpointInterval=2\n",
    "                        )\n",
    "                model=als.fit(train_data)\n",
    "                predictions=model.transform(validation_data)\n",
    "                #use rmse to calculate the error term for each model; The smaller the better.\n",
    "                evaluator=RegressionEvaluator(metricName=\"rmse\",labelCol=\"stars_review_int\",\n",
    "                                              predictionCol=\"prediction\")\n",
    "                rmse=evaluator.evaluate(predictions)\n",
    "                print(\"With reg Param={} and rank={}, RMSE of ALS is {}\".format(reg,rank_iter,rmse))\n",
    "                if rmse<=min_error:\n",
    "                    min_error=rmse\n",
    "                    best_rank=rank_iter\n",
    "                    best_regularization=reg\n",
    "                    best_model=model\n",
    "        run_time=time.time()-run_time\n",
    "        return best_rank,best_regularization,best_model,run_time"
   ]
  },
  {
   "cell_type": "code",
   "execution_count": 24,
   "metadata": {},
   "outputs": [],
   "source": [
    "maxiter=20\n",
    "ranks=range(10,25,2)\n",
    "start_time = time.time()\n",
    "reg_params=[0.01,0.02,0.1,0.2,0.3,0.5]"
   ]
  },
  {
   "cell_type": "code",
   "execution_count": 25,
   "metadata": {},
   "outputs": [
    {
     "name": "stdout",
     "output_type": "stream",
     "text": [
      "With reg Param=0.01 and rank=10, RMSE of ALS is 1.8491836089880864\n",
      "With reg Param=0.02 and rank=10, RMSE of ALS is 1.656036615527656\n",
      "With reg Param=0.1 and rank=10, RMSE of ALS is 1.373096198763543\n",
      "With reg Param=0.2 and rank=10, RMSE of ALS is 1.294786390681273\n",
      "With reg Param=0.3 and rank=10, RMSE of ALS is 1.2693146240341395\n",
      "With reg Param=0.5 and rank=10, RMSE of ALS is 1.2851425490672188\n",
      "With reg Param=0.01 and rank=12, RMSE of ALS is 1.8441229562727048\n",
      "With reg Param=0.02 and rank=12, RMSE of ALS is 1.6425943815820119\n",
      "With reg Param=0.1 and rank=12, RMSE of ALS is 1.3702884342947566\n",
      "With reg Param=0.2 and rank=12, RMSE of ALS is 1.2936221893465376\n",
      "With reg Param=0.3 and rank=12, RMSE of ALS is 1.2702366452356355\n",
      "With reg Param=0.5 and rank=12, RMSE of ALS is 1.2862183942484773\n",
      "With reg Param=0.01 and rank=14, RMSE of ALS is 1.792797140034989\n",
      "With reg Param=0.02 and rank=14, RMSE of ALS is 1.6026237296741952\n",
      "With reg Param=0.1 and rank=14, RMSE of ALS is 1.3634430584560928\n",
      "With reg Param=0.2 and rank=14, RMSE of ALS is 1.2920065770155642\n",
      "With reg Param=0.3 and rank=14, RMSE of ALS is 1.2696160047302696\n",
      "With reg Param=0.5 and rank=14, RMSE of ALS is 1.2860478223889924\n",
      "With reg Param=0.01 and rank=16, RMSE of ALS is 1.7579946618686222\n",
      "With reg Param=0.02 and rank=16, RMSE of ALS is 1.5783683648200946\n",
      "With reg Param=0.1 and rank=16, RMSE of ALS is 1.3568153173344697\n",
      "With reg Param=0.2 and rank=16, RMSE of ALS is 1.2885440440450353\n",
      "With reg Param=0.3 and rank=16, RMSE of ALS is 1.2676181032266696\n",
      "With reg Param=0.5 and rank=16, RMSE of ALS is 1.2861303364397723\n",
      "With reg Param=0.01 and rank=18, RMSE of ALS is 1.7154718231367678\n",
      "With reg Param=0.02 and rank=18, RMSE of ALS is 1.555920944983954\n",
      "With reg Param=0.1 and rank=18, RMSE of ALS is 1.35586911527395\n",
      "With reg Param=0.2 and rank=18, RMSE of ALS is 1.2902769259002687\n",
      "With reg Param=0.3 and rank=18, RMSE of ALS is 1.2692836065121478\n",
      "With reg Param=0.5 and rank=18, RMSE of ALS is 1.286193052681854\n",
      "With reg Param=0.01 and rank=20, RMSE of ALS is 1.7111822805751558\n",
      "With reg Param=0.02 and rank=20, RMSE of ALS is 1.5458489399120936\n",
      "With reg Param=0.1 and rank=20, RMSE of ALS is 1.3516932874800602\n",
      "With reg Param=0.2 and rank=20, RMSE of ALS is 1.2885804827357115\n",
      "With reg Param=0.3 and rank=20, RMSE of ALS is 1.2687456445178409\n",
      "With reg Param=0.5 and rank=20, RMSE of ALS is 1.2860854722874318\n",
      "With reg Param=0.01 and rank=22, RMSE of ALS is 1.6696404146493995\n",
      "With reg Param=0.02 and rank=22, RMSE of ALS is 1.5218027708030004\n",
      "With reg Param=0.1 and rank=22, RMSE of ALS is 1.3508480350346586\n",
      "With reg Param=0.2 and rank=22, RMSE of ALS is 1.2889873833564875\n",
      "With reg Param=0.3 and rank=22, RMSE of ALS is 1.2695602595576072\n",
      "With reg Param=0.5 and rank=22, RMSE of ALS is 1.2866286288533963\n",
      "With reg Param=0.01 and rank=24, RMSE of ALS is 1.6300592725088767\n",
      "With reg Param=0.02 and rank=24, RMSE of ALS is 1.4982516406861155\n",
      "With reg Param=0.1 and rank=24, RMSE of ALS is 1.3449345288601844\n",
      "With reg Param=0.2 and rank=24, RMSE of ALS is 1.2868851241699293\n",
      "With reg Param=0.3 and rank=24, RMSE of ALS is 1.2679228529395898\n",
      "With reg Param=0.5 and rank=24, RMSE of ALS is 1.2860288270387923\n"
     ]
    }
   ],
   "source": [
    "best_rank,best_regularization,best_model,run_time=ALS_parameter_tuning(train_data=train,validation_data=validation,maxiter=maxiter,reg_param=reg_params,rank=ranks)"
   ]
  },
  {
   "cell_type": "code",
   "execution_count": 26,
   "metadata": {},
   "outputs": [
    {
     "data": {
      "text/plain": [
       "(16, 0.3)"
      ]
     },
     "execution_count": 26,
     "metadata": {},
     "output_type": "execute_result"
    }
   ],
   "source": [
    "best_rank,best_regularization"
   ]
  },
  {
   "cell_type": "code",
   "execution_count": 16,
   "metadata": {},
   "outputs": [
    {
     "name": "stdout",
     "output_type": "stream",
     "text": [
      "With maxiter 10, RMSE of ALS is 1.2706884662874016\n",
      "With maxiter 11, RMSE of ALS is 1.2698023287600517\n",
      "With maxiter 12, RMSE of ALS is 1.2692908251556148\n",
      "With maxiter 13, RMSE of ALS is 1.268995012239572\n",
      "With maxiter 14, RMSE of ALS is 1.2688276422308662\n",
      "With maxiter 15, RMSE of ALS is 1.2687386685563513\n",
      "With maxiter 16, RMSE of ALS is 1.2686983299786394\n",
      "With maxiter 17, RMSE of ALS is 1.2686883892689431\n",
      "With maxiter 18, RMSE of ALS is 1.2686974031490528\n",
      "With maxiter 19, RMSE of ALS is 1.2687180614231848\n",
      "With maxiter 20, RMSE of ALS is 1.2687456445178409\n",
      "With maxiter 21, RMSE of ALS is 1.2687770582809303\n",
      "With maxiter 22, RMSE of ALS is 1.2688102915645294\n",
      "With maxiter 23, RMSE of ALS is 1.2688440157642238\n",
      "With maxiter 24, RMSE of ALS is 1.2688773751721978\n"
     ]
    }
   ],
   "source": [
    "def ALS_learning_speed(train_data,validation_data,maxiter,best_reg_param,best_rank):\n",
    "    \"\"\"\n",
    "    function to test the learning speed of ALS\n",
    "    \n",
    "    ----------------\n",
    "    parameters:\n",
    "    \n",
    "    train_data: train_set spark dataframe with user_id, business_id, review. All three needs to be column of integars\n",
    "    \n",
    "    validation_data: validation set spark dataframe user_id, business_id, review. All three needs to be column of integars\n",
    "    \n",
    "    maxiter: list of integars; iteration number that needs to be tuned\n",
    "    \n",
    "    best_reg_param: integar; best regularization parameter found above\n",
    "    \n",
    "    best_rank: integar; best rank found above\n",
    "    \n",
    "    \n",
    "    \"\"\"\n",
    "    \n",
    "    min_error=float('inf')\n",
    "    run_time=time.time()\n",
    "    rmse_list=[]\n",
    "    running_time_list=[]\n",
    "    for max_iter in maxiter:\n",
    "        start_time=time.time()\n",
    "        als=ALS(\n",
    "                maxIter=max_iter,\n",
    "                regParam=best_reg_param,\n",
    "                userCol=\"user_id_int\",\n",
    "                itemCol=\"business_id_int\",\n",
    "                ratingCol=\"stars_review_int\",\n",
    "                rank=best_rank,\n",
    "                coldStartStrategy=\"drop\",\n",
    "                checkpointInterval=2\n",
    "                )\n",
    "        model=als.fit(train_data)\n",
    "        predictions=model.transform(validation_data)\n",
    "        #use rmse to calculate the error term for each model; The smaller the better.\n",
    "        evaluator=RegressionEvaluator(metricName=\"rmse\",labelCol=\"stars_review_int\",predictionCol=\"prediction\")\n",
    "        rmse=evaluator.evaluate(predictions)\n",
    "        print(\"With maxiter {}, RMSE of ALS is {}\".format(max_iter,rmse))\n",
    "        rmse_list.append(rmse)\n",
    "        running_time_list.append(time.time()-start_time)\n",
    "    return rmse_list,running_time_list\n",
    "maxiter_list=range(10,25)\n",
    "rmse_list,running_time_list=ALS_learning_speed(train_data=train,validation_data=validation,maxiter=maxiter_list,best_reg_param=0.3,best_rank=20)\n"
   ]
  },
  {
   "cell_type": "markdown",
   "metadata": {},
   "source": [
    "RMSE is at its samllest when iteration at 17."
   ]
  },
  {
   "cell_type": "code",
   "execution_count": 21,
   "metadata": {},
   "outputs": [
    {
     "name": "stdout",
     "output_type": "stream",
     "text": [
      "[1.2706884662874016, 1.2698023287600517, 1.2692908251556148, 1.268995012239572, 1.2688276422308662, 1.2687386685563513, 1.2686983299786394, 1.2686883892689431, 1.2686974031490528, 1.2687180614231848, 1.2687456445178409, 1.2687770582809303, 1.2688102915645294, 1.2688440157642238, 1.2688773751721978]\n"
     ]
    },
    {
     "data": {
      "image/png": "[encoded data removed]",
      "text/plain": [
       "<Figure size 432x288 with 2 Axes>"
      ]
     },
     "metadata": {
      "needs_background": "light"
     },
     "output_type": "display_data"
    }
   ],
   "source": [
    "print(rmse_list)\n",
    "\n",
    "plt.figure()\n",
    "plt.subplot(211)\n",
    "plt.plot(maxiter_list,rmse_list)\n",
    "plt.subplot(212)\n",
    "plt.plot(maxiter_list,running_time_list)\n",
    "plt.show()"
   ]
  },
  {
   "cell_type": "markdown",
   "metadata": {},
   "source": [
    "Overall, we can see that when $ Lambda $ =0.3 and rank=16, ALS gives the best RMSE at 1.27\n",
    "\n",
    "What we can observe is that RMSE is montonic with regard to rank. The higher the rank the lower the RMSE; that makes perfect as the more complex the model is, the more accurate it would be. However, we observe there is a local minimum for RMSE when **lambda** is changed. This is becasue **lambda** is the regularization factor for overfitting the model. The higher the **lambda** is, the more penalty it would put on the model for overfitting. In this case, the model performs worse when **lambda = 0.5** than when **lambda=0.3** becasue the model lost too much detail in describing the data to prevent it from overfitting.\n",
    "\n",
    "----------------------\n",
    "Now, we have the best model, let's use ALS to make some recommendations. First, I will need a map to convert restaurant name into the integer business id"
   ]
  },
  {
   "cell_type": "code",
   "execution_count": 10,
   "metadata": {},
   "outputs": [],
   "source": [
    "def find_restaurant_id(data,restaurant_list):\n",
    "    \"\"\"\n",
    "    function to user restaurant name to find restaurant id\n",
    "    \n",
    "    --------------\n",
    "    \n",
    "    data: spark dataset that contains restaurant name, restaurant id combination\n",
    "    \n",
    "    restaurant_list: list, input list of restaurant name that needs to be transfer to restaurant id\n",
    "    \n",
    "    \"\"\"\n",
    "    final_list=[]\n",
    "    if restaurant_list is None:\n",
    "        return final_list\n",
    "    for restaurant in restaurant_list:\n",
    "        restaurant_id=data.where(col('name') \\\n",
    "                          .like(restaurant)) \\\n",
    "                          .select('business_id_int') \\\n",
    "                          .distinct() \\\n",
    "                          .rdd \\\n",
    "                          .map(lambda r:r[0]) \\\n",
    "                          .collect()    \n",
    "                          \n",
    "        final_list.extend(restaurant_id)\n",
    "    return final_list"
   ]
  },
  {
   "cell_type": "markdown",
   "metadata": {},
   "source": [
    "Next, define the function that would add new data into the model."
   ]
  },
  {
   "cell_type": "code",
   "execution_count": 11,
   "metadata": {},
   "outputs": [],
   "source": [
    "def add_new_user_data(train_data,my_fav,my_least_fav=None):\n",
    "    \"\"\"\n",
    "    function to add new user's data into train model\n",
    "    \n",
    "    --------------\n",
    "    \n",
    "    \n",
    "    parameters:\n",
    "    \n",
    "    train_data: spark dataframe, Initial data for user_id,business_id,rating combinations\n",
    "    \n",
    "    my_fav: list of strings, favourite restaurant list; Assume these restaurants are marked as 5\n",
    "    \n",
    "    my_least_fav: list of strings, least favourite restaurant list; Assume these restaurants are makred as 1\n",
    "    \"\"\"\n",
    "    new_user_id=train_data.rdd.map(lambda r:r[1]).max()+1\n",
    "    columns=['business_id_int','user_id_int','stars_review','name']\n",
    "    print(\"initialize data for new userid {}\".format(new_user_id))\n",
    "    fav_list=find_restaurant_id(train_data,my_fav)\n",
    "    fav_rows=[(restaurant_id,new_user_id,5,restaurant) for restaurant_id,restaurant in zip(fav_list,my_fav)]\n",
    "    fav_df=spark.createDataFrame(fav_rows,columns)\n",
    "    final_set=train_data.union(fav_df)\n",
    "    if my_least_fav is not None:\n",
    "        least_fav_list=find_restaurant_id(train_data,my_least_fav)\n",
    "        least_fav_rows=[(restaurant_id,new_user_id,1,restaurant) for restaurant_id,restaurant in zip(least_fav_list,my_least_fav)]\n",
    "        least_fav_df=spark.createDataFrame(least_fav_rows,columns)\n",
    "        final_set=train_data.union(least_fav_df)\n",
    "    return new_user_id,final_set"
   ]
  },
  {
   "cell_type": "code",
   "execution_count": 27,
   "metadata": {},
   "outputs": [],
   "source": [
    "def find_personal_recommendation_als(train_data,my_fav,my_least_fav=None,reg_param=0.3,rank=16,maxiter=17):\n",
    "    \"\"\"\n",
    "    function to give personal recommendations to the defined user who has record of favourite restaurant and least favourite restaurant\n",
    "    \n",
    "    -----------\n",
    "    parameters:\n",
    "    \n",
    "    train_data: spark dataframe, Initial data for user_id,business_id,rating combinations\n",
    "    \n",
    "    my_fav: list of strings, favourite restaurant list; Assume these restaurants are marked as 5\n",
    "    \n",
    "    my_least_fav: list of strings, least favourite restaurant list; Assume these restaurants are makred as 1\n",
    "    \n",
    "    reg_param: lambda in ALS, defined the overfitting penalty of the ALS\n",
    "    \n",
    "    rank: rank of ALS, defined the complexity of ALS\n",
    "    \n",
    "    \n",
    "    \"\"\"\n",
    "    best_regularization=reg_param\n",
    "    best_rank=rank\n",
    "    new_user_id,new_set=add_new_user_data(train_data,my_fav,my_least_fav)\n",
    "    \n",
    "    best_als=ALS(maxIter=maxiter, \\\n",
    "             regParam=best_regularization, \\\n",
    "             userCol=\"user_id_int\", \\\n",
    "             itemCol=\"business_id_int\", \\\n",
    "             ratingCol=\"stars_review_int\", \\\n",
    "             rank=best_rank, \\\n",
    "             coldStartStrategy=\"drop\", \\\n",
    "             checkpointInterval=2\n",
    "             )\n",
    "    model=best_als.fit(new_set)\n",
    "    users=new_set.select(best_als.getUserCol()).where(col('user_id_int')==new_user_id)\n",
    "    userSubsetRecs=model.recommendForUserSubset(users,10)\n",
    "    print(\"Here are the top 10 recommandations for you given your favourite and least favourite food\")\n",
    "    for restaurant in userSubsetRecs.select(\"recommendations\").collect()[0][0]:\n",
    "        restaurant_id=restaurant.__getattr__(\"business_id_int\")\n",
    "        restaurant_name=train_data.where(col('business_id_int')==restaurant_id).select('name').distinct().collect()\n",
    "        print(restaurant_name[0].__getattr__(\"name\"))\n",
    "    return userSubsetRecs\n"
   ]
  },
  {
   "cell_type": "code",
   "execution_count": 28,
   "metadata": {},
   "outputs": [
    {
     "name": "stdout",
     "output_type": "stream",
     "text": [
      "initialize data for new userid 458670\n",
      "Here are the top 10 recommandations for you given your favourite and least favourite food\n",
      "Shawarma Q\n",
      "Brando's Fried Chicken\n",
      "Charlotte's Homemade Goodies\n",
      "Sushi Making For the Soul\n",
      "Pita Pit\n",
      "Ten Ten Dim Sum\n",
      "Porchetta Roll\n",
      "Cuisine of India\n",
      "The Dock On Queen\n",
      "Debu's Nouvelle Indian Cuisine\n"
     ]
    },
    {
     "data": {
      "text/plain": [
       "DataFrame[user_id_int: int, recommendations: array<struct<business_id_int:int,rating:float>>]"
      ]
     },
     "execution_count": 28,
     "metadata": {},
     "output_type": "execute_result"
    }
   ],
   "source": [
    "my_fav=['Emerald Chinese Restaurant']\n",
    "\n",
    "find_personal_recommendation_als(ALS_data,my_fav)"
   ]
  },
  {
   "cell_type": "markdown",
   "metadata": {},
   "source": [
    "Compare this to the result from KNN\n",
    "\n",
    "-------------\n",
    "(KNN recommendation)\n",
    "\n",
    "Recommendations for Emerald Chinese Restaurant:\n",
    "\n",
    "1: Kobe Sushi, with distance of 0.8729435047925027\n",
    "\n",
    "2: Wonton Chai Noodle, with distance of 0.8717288246806103\n",
    "\n",
    "3: Chako, with distance of 0.8693951111786435\n",
    "\n",
    "4: Congee Dynasty, with distance of 0.8658084838350306\n",
    "\n",
    "5: Dynasty BBQ, with distance of 0.861539455352046\n",
    "\n",
    "6: McDonald's, with distance of 0.8548495321630935\n",
    "\n",
    "7: Wild Wing, with distance of 0.854550339648705\n",
    "\n",
    "8: Blue Lagoon Seafood Master, with distance of 0.8544684454549096\n",
    "\n",
    "9: Viet Thai Restaurant, with distance of 0.8378466819037798\n",
    "\n",
    "10: Happy Jade Seafood Chinese Restaurant, with distance of 0.7963704755081871\n",
    "\n",
    "-------------\n",
    "\n",
    "It is surprise to see that ALS gives totally different recommendations comparing to KNN. \n",
    "\n",
    "Let's take another example of J's Fish and Chips\n"
   ]
  },
  {
   "cell_type": "code",
   "execution_count": 29,
   "metadata": {},
   "outputs": [
    {
     "name": "stdout",
     "output_type": "stream",
     "text": [
      "initialize data for new userid 458670\n",
      "Here are the top 10 recommandations for you given your favourite and least favourite food\n",
      "Shawarma Q\n",
      "Bar Bataviato\n",
      "J's Fish & Chips\n",
      "Millwood Melt Grilled Cheesery\n",
      "Debe's Roti & Doubles\n",
      "Ten Ten Dim Sum\n",
      "Mrakovic Meat & Deli\n",
      "Pita Pit\n",
      "Sushi Making For the Soul\n",
      "Urban Acorn Catering\n"
     ]
    },
    {
     "data": {
      "text/plain": [
       "DataFrame[user_id_int: int, recommendations: array<struct<business_id_int:int,rating:float>>]"
      ]
     },
     "execution_count": 29,
     "metadata": {},
     "output_type": "execute_result"
    }
   ],
   "source": [
    "my_fav=[\"J's Fish & Chips\"]\n",
    "find_personal_recommendation_als(ALS_data,my_fav)"
   ]
  },
  {
   "cell_type": "markdown",
   "metadata": {},
   "source": [
    "Compared it to the KNN model\n",
    "\n",
    "-------------------------------------------------------\n",
    "1: Taza Xpress, with distance of 0.9176311421402781\n",
    "\n",
    "2: Quesada Burritos and Tacos, with distance of 0.9038392772773323\n",
    "\n",
    "3: Twisted Fork, with distance of 0.896251268968906\n",
    "\n",
    "4: Yamato Sushi, with distance of 0.8955883310348774\n",
    "\n",
    "5: St. Louis Bar & Grill, with distance of 0.8916467512822909\n",
    "\n",
    "6: Otaru Sushi, with distance of 0.8879336370638948\n",
    "\n",
    "7: Bakery Garden, with distance of 0.8687116746261058\n",
    "\n",
    "8: Sunset Grill, with distance of 0.8267602678311907\n",
    "\n",
    "9: Mrs. Greek Souvlaki Express, with distance of 0.7920633893787208\n",
    "\n",
    "10: The Prince Albert Pub, with distance of 0.7846347538730261\n",
    "\n",
    "Again, very different."
   ]
  }
 ],
 "metadata": {
  "kernelspec": {
   "display_name": "Python 3",
   "language": "python",
   "name": "python3"
  },
  "language_info": {
   "codemirror_mode": {
    "name": "ipython",
    "version": 3
   },
   "file_extension": ".py",
   "mimetype": "text/x-python",
   "name": "python",
   "nbconvert_exporter": "python",
   "pygments_lexer": "ipython3",
   "version": "3.7.3"
  }
 },
 "nbformat": 4,
 "nbformat_minor": 2
}
